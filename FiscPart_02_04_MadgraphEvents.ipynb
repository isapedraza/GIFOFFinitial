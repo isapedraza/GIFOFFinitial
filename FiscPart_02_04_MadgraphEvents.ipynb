{
  "nbformat": 4,
  "nbformat_minor": 0,
  "metadata": {
    "colab": {
      "name": "FiscPart_02_04_MadgraphEvents.ipynb",
      "provenance": [],
      "toc_visible": true,
      "authorship_tag": "ABX9TyP9o1QrSS92OCypLviPdgzI",
      "include_colab_link": true
    },
    "kernelspec": {
      "name": "python3",
      "display_name": "Python 3"
    },
    "language_info": {
      "name": "python"
    }
  },
  "cells": [
    {
      "cell_type": "markdown",
      "metadata": {
        "id": "view-in-github",
        "colab_type": "text"
      },
      "source": [
        "<a href=\"https://colab.research.google.com/github/isapedraza/GIFOFFinitial/blob/master/FiscPart_02_04_MadgraphEvents.ipynb\" target=\"_parent\"><img src=\"https://colab.research.google.com/assets/colab-badge.svg\" alt=\"Open In Colab\"/></a>"
      ]
    },
    {
      "cell_type": "markdown",
      "metadata": {
        "id": "gmQDegfdx86S"
      },
      "source": [
        "# Plot the cuadri-vectores generados por MadGraph\n",
        "\n"
      ]
    },
    {
      "cell_type": "code",
      "metadata": {
        "colab": {
          "base_uri": "https://localhost:8080/",
          "height": 265
        },
        "id": "AN42hy7E_KcC",
        "outputId": "2039b5d6-af52-46a1-c55f-f8584b1bec9c"
      },
      "source": [
        "import pandas as pd\n",
        "import numpy as np\n",
        "import matplotlib.pyplot as plt\n",
        "from scipy.stats import norm\n",
        "\n",
        "events = pd.read_csv('https://cernbox.cern.ch/index.php/s/5n2wG7OD7a0wYXX/download')\n",
        "#desde drive, dar permisos en el ícono de folder de la izquierda en la tab de drive\n",
        "#data=pd.read_csv(\"/content/drive/MyDrive/Datos/eventos_pxpypzE.csv\") \n",
        "events.head()\n",
        "\n",
        "data = np.genfromtxt(\"https://cernbox.cern.ch/index.php/s/5n2wG7OD7a0wYXX/download\", delimiter=\", \", names=[\"px\",\"py\",\"pz\",\"E\"] )\n",
        "#plt.plot(data['px'])\n",
        "#plt.hist(data['px'])\n",
        "#momento transverso\n",
        "#plt.hist(np.sqrt(data['px']*data['px']+data['py']*data['py']))\n",
        "#momento \n",
        "plt.hist(np.sqrt(data['px']*data['px']+data['py']*data['py']+data['pz']*data['pz']))\n",
        "plt.show()"
      ],
      "execution_count": 3,
      "outputs": [
        {
          "output_type": "display_data",
          "data": {
            "image/png": "[encoded data removed]",
            "text/plain": [
              "<Figure size 432x288 with 1 Axes>"
            ]
          },
          "metadata": {
            "needs_background": "light"
          }
        }
      ]
    },
    {
      "cell_type": "code",
      "metadata": {
        "id": "gcNnrPS6NuV7"
      },
      "source": [
        ""
      ],
      "execution_count": 8,
      "outputs": []
    }
  ]
}